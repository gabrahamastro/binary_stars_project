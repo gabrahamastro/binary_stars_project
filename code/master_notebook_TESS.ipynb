{
 "cells": [
  {
   "cell_type": "code",
   "execution_count": null,
   "id": "957b65b6",
   "metadata": {
    "scrolled": true
   },
   "outputs": [],
   "source": [
    "%pylab notebook"
   ]
  },
  {
   "cell_type": "markdown",
   "id": "2017e3fe",
   "metadata": {},
   "source": [
    "#### Must pip install astropy, lightkurve and PyAstronomy.pyasl"
   ]
  },
  {
   "cell_type": "code",
   "execution_count": 4,
   "id": "2d42da37",
   "metadata": {},
   "outputs": [],
   "source": [
    "from astropy.table import Table\n",
    "from astropy.time import Time\n",
    "from astropy.io import ascii\n",
    "import lightkurve as lk \n",
    "import warnings \n",
    "from lightkurve import search_targetpixelfile\n",
    "import pandas as pd\n",
    "from astropy import units as u\n",
    "\n",
    "\n",
    "###### uncomment the below if not using magic: ######\n",
    "# import matplotlib.pyplot as plt\n",
    "# import numpy as np"
   ]
  },
  {
   "cell_type": "markdown",
   "id": "252727a9",
   "metadata": {},
   "source": [
    "#### Searching and retrieving the light curve(s) of a star:"
   ]
  },
  {
   "cell_type": "code",
   "execution_count": null,
   "id": "09c3ed08",
   "metadata": {},
   "outputs": [],
   "source": [
    "#######EDITABLE#######\n",
    "#Insert the name of the star of interest below inbetween the red quotes.\n",
    "star_name = '' #what the catalogue contains\n",
    "file_name = '' #must contain NO spaces or file extension\n",
    "Gaia_file_name = '' #give Gaia FITS file (without extension)"
   ]
  },
  {
   "cell_type": "code",
   "execution_count": null,
   "id": "efd02b3f",
   "metadata": {},
   "outputs": [],
   "source": [
    "#Finding star\n",
    "search_result = lk.search_lightcurve(star_name, mission = 'TESS')"
   ]
  },
  {
   "cell_type": "code",
   "execution_count": null,
   "id": "288cad22",
   "metadata": {},
   "outputs": [],
   "source": [
    "#Showing available data\n",
    "search_result"
   ]
  },
  {
   "cell_type": "code",
   "execution_count": null,
   "id": "28693e08",
   "metadata": {},
   "outputs": [],
   "source": [
    "#######EDITABLE#######\n",
    "#Enter what parameters to narrow down data downloaded\n",
    "#Specify in ''!!!\n",
    "\n",
    "exptime = 120 # specify the exposure time (s) - just like cadance\n",
    "\n",
    "quarter = None # specify the sector\n",
    "\n",
    "author = 'SPOC' # specify the author\n",
    "\n",
    "radius=None # default is 0.0001 arcsec (conesearch)\n",
    "\n",
    "limit=None # maximum number of products to return"
   ]
  },
  {
   "cell_type": "code",
   "execution_count": null,
   "id": "6b43caf7",
   "metadata": {},
   "outputs": [],
   "source": [
    "search_result = lk.search_lightcurve(star_name, mission = 'TESS',\n",
    "                                     exptime=exptime,\n",
    "                                     quarter=quarter,\n",
    "                                     author= author,\n",
    "                                     radius=radius,\n",
    "                                     limit=limit)\n",
    "\n",
    "print(search_result)"
   ]
  },
  {
   "cell_type": "code",
   "execution_count": null,
   "id": "780b7c76",
   "metadata": {},
   "outputs": [],
   "source": [
    "#Downloading filtered data\n",
    "lc = search_result[0].download_all()\n",
    "count_result = len(search_result) #number of search results"
   ]
  },
  {
   "cell_type": "code",
   "execution_count": null,
   "id": "1efe6bd3",
   "metadata": {
    "scrolled": false
   },
   "outputs": [],
   "source": [
    "#Displaying the data\n",
    "for lightcurve in range(0,count_result):\n",
    "    current = lc[lightcurve]\n",
    "    current.plot(label='Result No. '+str(lightcurve),color='orange')\n",
    "    plt.show()"
   ]
  },
  {
   "cell_type": "code",
   "execution_count": null,
   "id": "c6c0f607",
   "metadata": {},
   "outputs": [],
   "source": [
    "#######EDITABLE#######\n",
    "#Enter data that is not of interest \n",
    "#(i.e. those which, by eye, don't look to be of good quality)\n",
    "unwanted = []"
   ]
  },
  {
   "cell_type": "code",
   "execution_count": null,
   "id": "995ab631",
   "metadata": {
    "scrolled": true
   },
   "outputs": [],
   "source": [
    "#########NOT EDITABLE: Only run if wanting to remove whole search results#########\n",
    "#Showing and downloading the newly filtered results\n",
    "wanted = []\n",
    "\n",
    "for lightcurve in range(0,count_result):\n",
    "    if lightcurve not in unwanted:\n",
    "        wanted.append(lightcurve)\n",
    "\n",
    "print(wanted)\n",
    "\n",
    "search_result = search_result[wanted]\n",
    "print(search_result) #printing updated list\n",
    "lc = search_result.download_all() #downloading wanted lightcurves"
   ]
  },
  {
   "cell_type": "code",
   "execution_count": null,
   "id": "e78f0fbe",
   "metadata": {},
   "outputs": [],
   "source": [
    "#Displaying light curve<s> of interest:\n",
    "nlc = lc.stitch()\n",
    "nlc.plot(color='purple')\n",
    "plt.show()"
   ]
  },
  {
   "cell_type": "markdown",
   "id": "a91ff97d",
   "metadata": {},
   "source": [
    "#### Removing the messy bits"
   ]
  },
  {
   "cell_type": "code",
   "execution_count": null,
   "id": "ef44a26c",
   "metadata": {},
   "outputs": [],
   "source": [
    "#######EDITABLE#######\n",
    "#Examine the light curve(s) of interest above using the interactive plot tool.\n",
    "#Insert the start and end time(s) of the unwanted patch(es) of data into the following variables respectively.\n",
    "bad_dat_start_list = [] #The start times of individual unwanted patches are separated by ','.\n",
    "bad_dat_end_list =  []  #The end times of individual unwanted patches are separated by ','.\n",
    "\n",
    "bad_flux_bottom = [] #bottom (y values) of bad values\n",
    "bad_flux_top = [] # top (y values) of bad values"
   ]
  },
  {
   "cell_type": "code",
   "execution_count": null,
   "id": "3e5cec2a",
   "metadata": {},
   "outputs": [],
   "source": [
    "good_lc = nlc.copy()\n",
    "for bad_dat_start,bad_dat_end in zip(bad_dat_start_list,bad_dat_end_list):\n",
    "    print('Removing data from ',bad_dat_start,' to ',bad_dat_end)\n",
    "    #Extracting and displaying the good data\n",
    "    good_data_mask =  (good_lc.time.value < bad_dat_start) | (good_lc.time.value > bad_dat_end)\n",
    "    good_lc = good_lc[good_data_mask]\n",
    "\n",
    "for bad_dat_start,bad_dat_end in zip(bad_flux_bottom,bad_flux_top):\n",
    "    print('Removing data from ',bad_dat_start,' to ',bad_dat_end)\n",
    "    #Extracting and displaying the good data\n",
    "    good_data_mask =  (good_lc.flux.value < bad_dat_start) | (good_lc.flux.value > bad_dat_end)\n",
    "    good_lc = good_lc[good_data_mask]"
   ]
  },
  {
   "cell_type": "code",
   "execution_count": null,
   "id": "87c8a359",
   "metadata": {
    "scrolled": false
   },
   "outputs": [],
   "source": [
    "#Plotting the good data\n",
    "fig, ax = plt.subplots(figsize=(10,5))\n",
    "good_lc.scatter(ax=ax, s=1, color='dodgerblue')\n",
    "ax.set_title('The Good Stuff')    \n",
    "#ax.set_xlim(0,1700)"
   ]
  },
  {
   "cell_type": "markdown",
   "id": "c75d98d5",
   "metadata": {},
   "source": [
    "#### Determining the orbital period of the star:"
   ]
  },
  {
   "cell_type": "code",
   "execution_count": null,
   "id": "f2be3994",
   "metadata": {},
   "outputs": [],
   "source": [
    "#######EDIT THIS#######\n",
    "\n",
    "#Use the interactive plot tool to measure an estimate of the orbital period of the star.\n",
    "#Insert this estimate along with a reasonable uncertainty in the corresponding variables below.\n",
    "\n",
    "\n",
    "period_estimate = None #estimate in days\n",
    "period_uncertainty = 0.1 #uncertainty in days"
   ]
  },
  {
   "cell_type": "code",
   "execution_count": null,
   "id": "18c9d3d9",
   "metadata": {},
   "outputs": [],
   "source": [
    "#Creating an array of periods to search\n",
    "period = np.linspace(period_estimate-period_uncertainty, period_estimate+period_uncertainty, 10000)\n",
    "\n",
    "#Creating a BLSPeriodogram\n",
    "bls = good_lc.to_periodogram(method='bls', period=period, frequency_factor=500);\n",
    "bls.plot(color='firebrick');"
   ]
  },
  {
   "cell_type": "code",
   "execution_count": null,
   "id": "86e577b1",
   "metadata": {},
   "outputs": [],
   "source": [
    "orbital_period = bls.period_at_max_power\n",
    "orbital_t0 = bls.transit_time_at_max_power\n",
    "orbital_dur = bls.duration_at_max_power\n",
    "\n",
    "#Displaying the most likely orbital period of the star\n",
    "print(orbital_period)\n",
    "print(orbital_t0)"
   ]
  },
  {
   "cell_type": "code",
   "execution_count": null,
   "id": "5362bc83",
   "metadata": {
    "scrolled": false
   },
   "outputs": [],
   "source": [
    "#Plotting a phase-folded light curve of the star\n",
    "ax = good_lc.fold(period=orbital_period, epoch_time=orbital_t0,wrap_phase=0.8*orbital_period).scatter(color='mediumseagreen')\n",
    "plt.show()"
   ]
  },
  {
   "cell_type": "markdown",
   "id": "81b997b6",
   "metadata": {},
   "source": [
    "#### Comparing with raw Gaia data"
   ]
  },
  {
   "cell_type": "code",
   "execution_count": null,
   "id": "1ae7a069",
   "metadata": {
    "scrolled": false
   },
   "outputs": [],
   "source": [
    "#This is to import the .fits file with the gaia data and then getting the data into the 3 different colour bands for comparison\n",
    "#with the phase folded lightcurve above.\n",
    "\n",
    "table = Table.read(str(Gaia_file_name)+'.fits')\n",
    "\n",
    "u.add_enabled_units(u.def_unit('electrons.s**-1'))\n",
    "\n",
    "#Creating LightCurve objects from the data for each band (using flux directly)\n",
    "Glc = lk.LightCurve(time=table['g_transit_time'].value + 2455197.5,\n",
    "                    flux=table['g_transit_flux'].value,\n",
    "                    flux_err=table['g_transit_flux_error'].value)\n",
    "Glc['time'].format='btjd'\n",
    " \n",
    "BP_lc = lk.LightCurve(time=table['bp_obs_time'].value + 2455197.5,\n",
    "                    flux=table['bp_flux'].value,\n",
    "                    flux_err=table['bp_flux_error'].value)\n",
    "BP_lc['time'].format='btjd'\n",
    " \n",
    "RP_lc = lk.LightCurve(time=table['rp_obs_time'].value + 2455197.5,\n",
    "                    flux=table['rp_flux'].value,\n",
    "                    flux_err=table['rp_flux_error'].value)\n",
    "RP_lc['time'].format='btjd'\n",
    "\n"
   ]
  },
  {
   "cell_type": "code",
   "execution_count": null,
   "id": "c38747b0",
   "metadata": {},
   "outputs": [],
   "source": [
    "print(\"Green Band NaNs:\", np.isnan(table['g_transit_flux']).sum())\n",
    "print(\"Blue Band NaNs:\", np.isnan(table['bp_flux']).sum())\n",
    "print(\"Red Band NaNs:\", np.isnan(table['rp_flux']).sum())\n",
    "\n"
   ]
  },
  {
   "cell_type": "code",
   "execution_count": null,
   "id": "c4b21acc",
   "metadata": {
    "scrolled": false
   },
   "outputs": [],
   "source": [
    "#Normalising the Gaia data.\n",
    "\n",
    "nGlc = Glc.normalize()\n",
    "\n",
    "nBP_lc = BP_lc.normalize()\n",
    "\n",
    "nRP_lc = RP_lc.normalize()"
   ]
  },
  {
   "cell_type": "code",
   "execution_count": null,
   "id": "07938da6",
   "metadata": {},
   "outputs": [],
   "source": [
    "print(\" normalised Green Band NaNs:\", np.isnan(nGlc['flux']).sum())\n",
    "print(\" normalised Blue Band NaNs:\", np.isnan(nBP_lc['flux']).sum())\n",
    "print(\"normalised Red Band NaNs:\", np.isnan(nRP_lc['flux']).sum())"
   ]
  },
  {
   "cell_type": "markdown",
   "id": "ed417620",
   "metadata": {},
   "source": [
    "#### Only clean the bands with nan values - if they don't contain nan values then DO NOT run and move on to phase folding\n",
    "\n"
   ]
  },
  {
   "cell_type": "code",
   "execution_count": null,
   "id": "4e13bd01",
   "metadata": {},
   "outputs": [],
   "source": [
    "nGlc_clean = nBP_lc[~np.isnan(nBP_lc['flux'])]"
   ]
  },
  {
   "cell_type": "code",
   "execution_count": null,
   "id": "bdbb87f5",
   "metadata": {},
   "outputs": [],
   "source": [
    "nBP_lc_clean = nBP_lc[~np.isnan(nBP_lc['flux'])]"
   ]
  },
  {
   "cell_type": "code",
   "execution_count": null,
   "id": "1a52c80c",
   "metadata": {},
   "outputs": [],
   "source": [
    "nRP_lc_clean = nRP_lc[~np.isnan(nRP_lc['flux'])]"
   ]
  },
  {
   "cell_type": "markdown",
   "id": "c152662b",
   "metadata": {},
   "source": [
    "#### Phase folding the Gaia data and the good_lc to prepare for overplotting:"
   ]
  },
  {
   "cell_type": "markdown",
   "id": "3440f7b6",
   "metadata": {},
   "source": [
    "##### Green band - use the one you need; simply get rid of (#)\n"
   ]
  },
  {
   "cell_type": "code",
   "execution_count": null,
   "id": "76fd4906",
   "metadata": {},
   "outputs": [],
   "source": [
    "#nGlc_pf = nGlc.fold(period=orbital_period, epoch_time=orbital_t0,wrap_phase=0.8*orbital_period)\n",
    "\n",
    "\n",
    "#nGlc_pf = nGlc_clean.fold(period=orbital_period, epoch_time=orbital_t0,wrap_phase=0.8*orbital_period"
   ]
  },
  {
   "cell_type": "markdown",
   "id": "868ec41c",
   "metadata": {},
   "source": [
    "##### Red band - use the one you need; simply get rid of (#)"
   ]
  },
  {
   "cell_type": "code",
   "execution_count": null,
   "id": "bab5f4d4",
   "metadata": {},
   "outputs": [],
   "source": [
    "#nRP_lc_pf = nRP_lc.fold(period=orbital_period, epoch_time=orbital_t0,wrap_phase=0.8*orbital_period)\n",
    "\n",
    "#nRP_lc_pf = nRP_lc_clean.fold(period=orbital_period, epoch_time=orbital_t0,wrap_phase=0.8*orbital_period)"
   ]
  },
  {
   "cell_type": "markdown",
   "id": "3952f9ee",
   "metadata": {},
   "source": [
    "##### Blue band - use the one you need; simply get rid of (#)\n"
   ]
  },
  {
   "cell_type": "code",
   "execution_count": null,
   "id": "88b7e7b0",
   "metadata": {},
   "outputs": [],
   "source": [
    "#nBP_lc_pf = nBP_lc.fold(period=orbital_period, epoch_time=orbital_t0,wrap_phase=0.8*orbital_period)\n",
    "\n",
    "#nBP_lc_pf = nBP_lc_clean.fold(period=orbital_period, epoch_time=orbital_t0,wrap_phase=0.8*orbital_period)"
   ]
  },
  {
   "cell_type": "code",
   "execution_count": null,
   "id": "42536ce8",
   "metadata": {},
   "outputs": [],
   "source": [
    "#RUN this cell!!\n",
    "\n",
    "lc_after_pf = good_lc.fold(period=orbital_period, epoch_time=orbital_t0,wrap_phase=0.8*orbital_period) "
   ]
  },
  {
   "cell_type": "code",
   "execution_count": null,
   "id": "1b32b5cc",
   "metadata": {},
   "outputs": [],
   "source": [
    "print(\"phase folded Green Band Time Range:\", np.min(nGlc_pf.time), np.max(nGlc_pf.time))\n",
    "print(\"phase folded Blue Band Time Range:\", np.min(nBP_lc_pf.time), np.max(nBP_lc_pf.time))\n",
    "print(\"phase folded Red Band Time Range:\", np.min(nRP_lc_pf.time), np.max(nRP_lc_pf.time))"
   ]
  },
  {
   "cell_type": "code",
   "execution_count": null,
   "id": "b2449980",
   "metadata": {
    "scrolled": false
   },
   "outputs": [],
   "source": [
    "#Overplotting the Gaia data with the phase folded lightcurve: if they look similar then the data is good to use.\n",
    "\n",
    "fig,ax = plt.subplots()\n",
    "lc_after_pf.scatter(ax = ax, c = 'wheat',marker='+')\n",
    "nRP_lc_pf.scatter(ax = ax, c= 'r',marker='o')\n",
    "nGlc_pf.scatter(ax = ax, c = 'g',marker='o')\n",
    "nBP_lc_pf.scatter(ax = ax, c = 'b',marker='o')\n",
    "plt.show()"
   ]
  },
  {
   "cell_type": "markdown",
   "id": "0d2e076a",
   "metadata": {},
   "source": [
    "#### Detrending the light curve\n",
    "- Change `polynomial_degree` to smaller if **poor fit**\n",
    "- Change `gap_tol` if **error of no x values in array**"
   ]
  },
  {
   "cell_type": "markdown",
   "id": "9444a631",
   "metadata": {},
   "source": [
    "Note, this section (detrending the light curve) is adapted from code written by Pierre Maxted (2024), sent in private communications."
   ]
  },
  {
   "cell_type": "code",
   "execution_count": null,
   "id": "218dadf5",
   "metadata": {},
   "outputs": [],
   "source": [
    "#####EDITABLE#####\n",
    "#Adjust some of the parameters on the first three lines to get a good fit to your light curve.\n",
    "\n",
    "n_cycle = 5             # recommended value = 2 - 5\n",
    "rejection_limit = 4     # recommended value = 3 - 5\n",
    "polynomial_degree = 12  # recommended value = 2 - 16, do not use very high values (>~24)\n",
    "gap_tol = 0.05       # recommended value = 0.005, smaller value => more gaps"
   ]
  },
  {
   "cell_type": "code",
   "execution_count": null,
   "id": "ccaaf481",
   "metadata": {},
   "outputs": [],
   "source": [
    "#No user servicable parts inside this chunk of code\n",
    "t =  good_lc.time.value\n",
    "lc_sorted = good_lc[np.argsort(t)]\n",
    "timeval =  lc_sorted.time.value\n",
    "start_times = np.hstack([timeval.min(),timeval[np.gradient(timeval)>gap_tol][1::2]])\n",
    "end_times = np.hstack([timeval[np.gradient(timeval)>gap_tol][0::2],timeval.max()])\n",
    "smooth_function = np.ones_like(timeval)\n",
    "plot_function = np.zeros_like(timeval) + np.nan\n",
    "time_fit = np.array([])\n",
    "flux_fit = np.array([])\n",
    "for i,(t_min,t_max) in enumerate(zip(start_times,end_times)):\n",
    "    j = (timeval >= t_min) & (timeval <= t_max)\n",
    "    t_ref = np.median(timeval[j])\n",
    "    x = timeval[j] - t_ref\n",
    "    y = lc_sorted.flux.value[j]\n",
    "    ft = np.ones_like(x) \n",
    "    if sum(j) > (polynomial_degree*2):\n",
    "        for cycle in range(n_cycle):\n",
    "            r = y/ft\n",
    "            fit_mask = np.abs(r-1) < rejection_limit*np.mean(np.abs(r-1))\n",
    "            x = x[fit_mask]\n",
    "            y = y[fit_mask]\n",
    "            poly_coeffs = np.polyfit(x, y, polynomial_degree)\n",
    "            ft = np.polyval(poly_coeffs, x)\n",
    "    time_fit = np.hstack([time_fit,x+t_ref])\n",
    "    flux_fit = np.hstack([flux_fit,y])\n",
    "    smooth_function[j] = np.polyval(poly_coeffs, timeval[j] - np.median(timeval[j]))\n",
    "    # By using \"<\" in the second condition we leave an np.nan value in the array\n",
    "    # at the gap position, so we get a gap in the plotted function.\n",
    "    j = (timeval >= t_min) & (timeval < t_max)\n",
    "    plot_function[j] =  np.polyval(poly_coeffs, timeval[j] - np.median(timeval[j]))\n",
    "lc_after = lc_sorted / smooth_function\n",
    "\n",
    "lc_after_1 = lc_after"
   ]
  },
  {
   "cell_type": "markdown",
   "id": "dce168bf",
   "metadata": {},
   "source": [
    "##### Plot fit to trends in the data\n",
    " - Black points are data included in the polynomial fit\n",
    " - Grey points are points ignored in the polynomial fit\n",
    " - Red lines are the polynomials fits to each chunk of data"
   ]
  },
  {
   "cell_type": "code",
   "execution_count": null,
   "id": "4a032d50",
   "metadata": {
    "scrolled": false
   },
   "outputs": [],
   "source": [
    "#Adjust figure size here, if needed\n",
    " \n",
    "year = np.round((timeval-timeval.min())/365.25)\n",
    "n_year = len(set(year))\n",
    "fig,axlist = plt.subplots(ncols=n_year,figsize=(10,4),\n",
    "                gridspec_kw = {'wspace':0.01},sharey=True)\n",
    " \n",
    "for i,y in enumerate(set(year)):\n",
    "    if n_year > 1:\n",
    "        ax = axlist[i]\n",
    "    else:\n",
    "        ax = axlist\n",
    "    j = year == y\n",
    "    ax.scatter(timeval[j],good_lc.flux[j],s=1,color='grey')\n",
    "    ax.scatter(time_fit,flux_fit,s=2,color='navy')\n",
    "    ax.plot(timeval[j],plot_function[j],c='r')\n",
    "    ax.set_xlabel('Time  (days)')\n",
    "    if i == 0:\n",
    "        r = np.max([2*np.ptp(smooth_function),3*np.std(flux_fit)])\n",
    "        ax.set_ylim(1-r,1+r)\n",
    "        ax.set_ylabel('Normalised flux')\n",
    "    ax.set_xlim(timeval[j].min(),timeval[j].max())\n",
    "    for t in (start_times[1:]+end_times[:-1])/2:\n",
    "        ax.axvline(t,c='k',ls=':')\n",
    "plt.show()"
   ]
  },
  {
   "cell_type": "markdown",
   "id": "36acaafc",
   "metadata": {},
   "source": [
    "#### Remove points where the red curve is not flat (unconstrained)\n",
    "- Change the polynomial fit if grey dots form\n",
    "- Remove the data from that point if the red line suddenly jumps (as below)"
   ]
  },
  {
   "cell_type": "code",
   "execution_count": null,
   "id": "2c7e4c79",
   "metadata": {},
   "outputs": [],
   "source": [
    "#######EDITABLE#######\n",
    "#Examine the light curve(s) of interest above using the interactive plot tool.\n",
    "#Insert the start and end time(s) of the unwanted patch(es) of data into the following variables respectively.\n",
    "bad_dat_start_list_2 = [] #The start times of individual unwanted patches are separated by ','.\n",
    "bad_dat_end_list_2 =  []  #The end times of individual unwanted patches are separated by ','."
   ]
  },
  {
   "cell_type": "code",
   "execution_count": null,
   "id": "a19a9548",
   "metadata": {},
   "outputs": [],
   "source": [
    "lc_after = lc_after.copy()\n",
    "for bad_dat_start,bad_dat_end in zip(bad_dat_start_list_2,bad_dat_end_list_2):\n",
    "    print('Removing data from ',bad_dat_start,' to ',bad_dat_end)\n",
    "    #Extracting and displaying the good data\n",
    "    good_data_mask =  (lc_after.time.value < bad_dat_start) | (lc_after.time.value > bad_dat_end)\n",
    "    lc_after = lc_after[good_data_mask]"
   ]
  },
  {
   "cell_type": "code",
   "execution_count": null,
   "id": "894e67f8",
   "metadata": {},
   "outputs": [],
   "source": [
    "#Plotting the good data\n",
    "fig, ax = plt.subplots(figsize=(10,5))\n",
    "lc_after.scatter(ax=ax, s=1, color='dodgerblue')\n",
    "ax.set_title('The Good Stuff')    \n",
    "#ax.set_xlim(0,1700)"
   ]
  },
  {
   "cell_type": "markdown",
   "id": "c86febda",
   "metadata": {},
   "source": [
    "#### Re-do Detrending"
   ]
  },
  {
   "cell_type": "code",
   "execution_count": null,
   "id": "38285043",
   "metadata": {},
   "outputs": [],
   "source": [
    "#No user serviceable parts inside this chunk of code\n",
    "lc_after = lc_after.remove_nans() #removing nan values\n",
    "\n",
    "t =  lc_after.time.value\n",
    "lc_sorted1 = lc_after[np.argsort(t)]\n",
    "timeval =  lc_sorted1.time.value\n",
    "start_times = np.hstack([timeval.min(),timeval[np.gradient(timeval)>gap_tol][1::2]])\n",
    "end_times = np.hstack([timeval[np.gradient(timeval)>gap_tol][0::2],timeval.max()])\n",
    "smooth_function = np.ones_like(timeval)\n",
    "plot_function = np.zeros_like(timeval) + np.nan\n",
    "time_fit = np.array([])\n",
    "flux_fit = np.array([])\n",
    "for i,(t_min,t_max) in enumerate(zip(start_times,end_times)):\n",
    "    j = (timeval >= t_min) & (timeval <= t_max)\n",
    "    t_ref = np.median(timeval[j])\n",
    "    x = timeval[j] - t_ref\n",
    "    y = lc_sorted1.flux.value[j]\n",
    "    ft = np.ones_like(x) \n",
    "    if sum(j) > (polynomial_degree*2):\n",
    "        for cycle in range(n_cycle):\n",
    "            r = y/ft\n",
    "            fit_mask = np.abs(r-1) < rejection_limit*np.mean(np.abs(r-1))\n",
    "            x = x[fit_mask]\n",
    "            y = y[fit_mask]\n",
    "            poly_coeffs = np.polyfit(x, y, polynomial_degree)\n",
    "            ft = np.polyval(poly_coeffs, x)\n",
    "    time_fit = np.hstack([time_fit,x+t_ref])\n",
    "    flux_fit = np.hstack([flux_fit,y])\n",
    "    smooth_function[j] = np.polyval(poly_coeffs, timeval[j] - np.median(timeval[j]))\n",
    "    # By using \"<\" in the second condition we leave an np.nan value in the array\n",
    "    # at the gap position, so we get a gap in the plotted function.\n",
    "    j = (timeval >= t_min) & (timeval < t_max)\n",
    "    plot_function[j] =  np.polyval(poly_coeffs, timeval[j] - np.median(timeval[j]))\n",
    "lc_after = lc_sorted1 / smooth_function"
   ]
  },
  {
   "cell_type": "markdown",
   "id": "00c6a9f7",
   "metadata": {},
   "source": [
    "##### Plot fit to trends in the data\n",
    " - Black points are data included in the polynomial fit\n",
    " - Grey points are points ignored in the polynomial fit\n",
    " - Red lines are the polynomials fits to each chunk of data"
   ]
  },
  {
   "cell_type": "code",
   "execution_count": null,
   "id": "3fc0f4a3",
   "metadata": {},
   "outputs": [],
   "source": [
    "#Adjust figure size here, if needed\n",
    "#Comparing ORIGINAL (before any removal of trends) to second trend removal\n",
    " \n",
    "year = np.round((timeval-timeval.min())/365.25)\n",
    "n_year = len(set(year))\n",
    "fig,axlist = plt.subplots(ncols=n_year,figsize=(10,4),\n",
    "                gridspec_kw = {'wspace':0.01},sharey=True)\n",
    " \n",
    "for i,y in enumerate(set(year)):\n",
    "    if n_year > 1:\n",
    "        ax = axlist[i]\n",
    "    else:\n",
    "        ax = axlist\n",
    "    j = year == y\n",
    "    ax.scatter(timeval[j],lc_after.flux[j],s=1,color='grey')\n",
    "    ax.scatter(time_fit,flux_fit,s=2,color='navy')\n",
    "    ax.plot(timeval[j],plot_function[j],c='r')\n",
    "    ax.set_xlabel('Time  (days)')\n",
    "    if i == 0:\n",
    "        r = np.max([2*np.ptp(smooth_function),3*np.std(flux_fit)])\n",
    "        ax.set_ylim(1-r,1+r)\n",
    "        ax.set_ylabel('Normalised flux')\n",
    "    ax.set_xlim(timeval[j].min(),timeval[j].max())\n",
    "    for t in (start_times[1:]+end_times[:-1])/2:\n",
    "        ax.axvline(t,c='k',ls=':')\n",
    "\n",
    " \n",
    "#Uncomment this line and set file name if you want a copy of the figure for your report\n",
    "#fig.savefig('trend_removal.png',dpi=144)"
   ]
  },
  {
   "cell_type": "markdown",
   "id": "9dc57209",
   "metadata": {},
   "source": [
    "#### Compare light curves before and after trend removal\n",
    "**N.B. The graph here shows the improvement upon the previous detrending NOT the original**"
   ]
  },
  {
   "cell_type": "code",
   "execution_count": null,
   "id": "9cf85527",
   "metadata": {},
   "outputs": [],
   "source": [
    "fig,axlist = plt.subplots(ncols=n_year,figsize=(14,4),\n",
    "                gridspec_kw = {'wspace':0.01},sharey=True)\n",
    "for i,y in enumerate(set(year)):\n",
    "    ax = axlist[i]\n",
    "    j = year == y\n",
    "    if i == 0:\n",
    "        lc_sorted1[j].scatter(ax=ax, s=1,c='r',label='Before')\n",
    "        lc_after[j].scatter(ax=ax,s=1,c='b',label='After')\n",
    "    else:\n",
    "        lc_sorted1[j].scatter(ax=ax, s=1,c='r',label=None)\n",
    "        lc_after[j].scatter(ax=ax,s=1,c='b',label=None)\n",
    "        ax.set_ylabel(None)"
   ]
  },
  {
   "cell_type": "markdown",
   "id": "07b95d0b",
   "metadata": {},
   "source": [
    "#### Phase fold light curve again"
   ]
  },
  {
   "cell_type": "code",
   "execution_count": null,
   "id": "5c7700e8",
   "metadata": {},
   "outputs": [],
   "source": [
    "#Creating an array of periods to search\n",
    "period = np.linspace(period_estimate-period_uncertainty, period_estimate+period_uncertainty, 10000)\n",
    "\n",
    "#Creating a BLSPeriodogram\n",
    "bls = lc_after.to_periodogram(method='bls', period=period, frequency_factor=500);\n",
    "bls.plot(color='firebrick');"
   ]
  },
  {
   "cell_type": "code",
   "execution_count": null,
   "id": "5e0f5a37",
   "metadata": {},
   "outputs": [],
   "source": [
    "orbital_period = bls.period_at_max_power\n",
    "orbital_t0 = bls.transit_time_at_max_power\n",
    "orbital_dur = bls.duration_at_max_power\n",
    "\n",
    "#Displaying the most likely orbital period of the star\n",
    "print(orbital_period)\n",
    "print(orbital_t0)"
   ]
  },
  {
   "cell_type": "code",
   "execution_count": null,
   "id": "f57e94ac",
   "metadata": {},
   "outputs": [],
   "source": [
    "#Plotting a phase-folded light curve of the star\n",
    "ax = lc_after.fold(period=orbital_period, epoch_time=orbital_t0,wrap_phase=0.8*orbital_period).scatter(color='mediumseagreen')\n",
    "ax.set_xlim(-2.5,5)\n",
    "plt.show()"
   ]
  },
  {
   "cell_type": "markdown",
   "id": "7be94426",
   "metadata": {},
   "source": [
    "#### "
   ]
  },
  {
   "cell_type": "markdown",
   "id": "2c89f07d",
   "metadata": {},
   "source": [
    "#### Did the trend removal work? \n",
    "##### Yes: Run the cell below\n",
    "##### No: SKIP the cell below. Continue to next section"
   ]
  },
  {
   "cell_type": "code",
   "execution_count": null,
   "id": "5ae08e86",
   "metadata": {},
   "outputs": [],
   "source": [
    "#ONLY run if happy with trend removal.\n",
    "#If not, either:\n",
    "# (a) skip this cell \n",
    "# (b) return to top of trend removal sequence to try the process again.\n",
    "good_lc = lc_after"
   ]
  },
  {
   "cell_type": "markdown",
   "id": "dd03135a",
   "metadata": {},
   "source": [
    "#### Create Mask for Eclipses\n",
    "Look at the **phase folded lightcurve** and input values below for:\n",
    "- Width of primary eclipse - this **must** include some flat area around the eclipse\n",
    "- Width of secondary eclipse (or `None` if none)\n",
    "- Phase of secondary eclipse (or `None` if none) - this is of the centre of the dip\n",
    "\n",
    "All must be phases"
   ]
  },
  {
   "cell_type": "code",
   "execution_count": null,
   "id": "bc29a003",
   "metadata": {},
   "outputs": [],
   "source": [
    "primary_eclipse_width = None #width of primary eclipse\n",
    "secondary_eclipse_width = None #width of secondary eclipse (if none, write `None`)\n",
    "secondary_eclipse_phase_relative = None #phase of secondary eclipse (if none, write `None`), as seen in phase folded lightcurve x-coordinate"
   ]
  },
  {
   "cell_type": "code",
   "execution_count": null,
   "id": "523e0169",
   "metadata": {},
   "outputs": [],
   "source": [
    "orbital_t0_bin = orbital_t0.value\n",
    "orbital_period_bin = orbital_period.value\n",
    "\n",
    "secondary_eclipse_phase = secondary_eclipse_phase_relative * (1/orbital_period_bin)\n",
    "\n",
    "start_primary0 = orbital_period_bin - (primary_eclipse_width)/2 #start of first eclipse\n",
    "end_primary0 = orbital_period_bin + (primary_eclipse_width)/2 #end of first eclipse\n",
    "\n",
    "end_sequence = max(good_lc.time.value) #end time \n",
    "\n",
    "num_primary_eclipses = int(np.floor((end_sequence - end_primary0)/orbital_period_bin)) #number of primary eclipses\n",
    "\n",
    "start_primary = []\n",
    "end_primary = []\n",
    "for i in range(0,num_primary_eclipses):\n",
    "    eclipse_start = ((orbital_period_bin)+(orbital_period_bin*i))-(primary_eclipse_width)/2 \n",
    "    eclipse_end = ((orbital_period_bin)+(orbital_period_bin*i))+(primary_eclipse_width)/2\n",
    "    start_primary.append(eclipse_start)\n",
    "    end_primary.append(eclipse_end)\n",
    "mask_limits = np.column_stack([start_primary,end_primary])\n",
    "\n",
    "if secondary_eclipse_width is not None:\n",
    "    start_secondary0 = (orbital_t0_bin+secondary_eclipse_phase) - (secondary_eclipse_width)/2 #start of first eclipse\n",
    "    end_secondary0 = (orbital_t0_bin+secondary_eclipse_phase) + (secondary_eclipse_width)/2 #end of first eclipse\n",
    "    num_secondary_eclipses = int(np.floor((end_sequence - end_secondary0)/orbital_period_bin)) #number of secondary eclipses\n",
    "\n",
    "    start_secondary = []\n",
    "    end_secondary = []\n",
    "    for i in range(0,num_secondary_eclipses):\n",
    "        eclipse_start = ((orbital_t0_bin+secondary_eclipse_phase)+(orbital_period_bin*i))-(secondary_eclipse_width)/2 \n",
    "        eclipse_end = ((orbital_t0_bin+secondary_eclipse_phase)+(orbital_period_bin*i))+(secondary_eclipse_width)/2\n",
    "        start_secondary.append(eclipse_start)\n",
    "        end_secondary.append(eclipse_end)\n",
    "    secondary_limits = np.column_stack([start_secondary,end_secondary])\n",
    "    mask_limits = np.vstack([mask_limits,secondary_limits]) #masks\n",
    "\n",
    "mask_time = good_lc.time.value\n",
    "lc_mask = np.zeros(mask_time.shape, dtype=bool) #creating empty mask\n",
    "\n",
    "for start, end in mask_limits:\n",
    "    lc_mask |= (mask_time >= start) & (mask_time <= end) #applying mask for all of limits\n",
    "masked_lc = good_lc[lc_mask]\n",
    "print(masked_lc)"
   ]
  },
  {
   "cell_type": "markdown",
   "id": "ec89b968",
   "metadata": {},
   "source": [
    "#### Check how many points there are\n",
    "This can indicate whether you should use a random selection (below) or download all (later)"
   ]
  },
  {
   "cell_type": "code",
   "execution_count": null,
   "id": "4f1b9d8b",
   "metadata": {},
   "outputs": [],
   "source": [
    "print(good_lc.info)\n",
    "####Check the \"length\" value at the top####"
   ]
  },
  {
   "cell_type": "markdown",
   "id": "e2e58887",
   "metadata": {},
   "source": [
    "If the length is too big, run the cell below (takes a random sample)\n",
    "\n",
    "If the length is not too big, run the cell after (takes all data)"
   ]
  },
  {
   "cell_type": "markdown",
   "id": "25556365",
   "metadata": {},
   "source": [
    "#### Save a **random selection** for use in jktebop (less data intensive)"
   ]
  },
  {
   "cell_type": "markdown",
   "id": "521bf9fe",
   "metadata": {},
   "source": [
    "- Set `fraction` to `True` or `False` depending on whether you want to use a fraction (`True`) or or a number of points (`False`)\n",
    "- Input a float corresponding to the fraction or number "
   ]
  },
  {
   "cell_type": "code",
   "execution_count": null,
   "id": "c611c30b",
   "metadata": {},
   "outputs": [],
   "source": [
    "####EDITABLE####\n",
    "fraction = False #If True, take a fraction (0-1) of data points. If False, take a number of data points (e.g. 1000)\n",
    "value = 1800 #The fraction or number of data points to be used"
   ]
  },
  {
   "cell_type": "code",
   "execution_count": null,
   "id": "40b9186c",
   "metadata": {},
   "outputs": [],
   "source": [
    "#Read in flux\n",
    "flux = good_lc.flux.value\n",
    "#Read in flux error \n",
    "flux_err = good_lc.flux_err.value\n",
    "#Calculate magnitude error from flux\n",
    "Mag_err = (abs((-2.5*np.log10(flux+flux_err))-(-2.5*np.log10(flux)))+abs((-2.5*np.log10(flux))-(-2.5*np.log10(flux-flux_err))))/2\n",
    "#Calculate magnitude\n",
    "Mag = -2.5*np.log10(flux)\n",
    "#Read in time values\n",
    "time = good_lc.time.value\n",
    "\n",
    "#Create a new table\n",
    "jktebop_table = Table()\n",
    "#Add values to table\n",
    "jktebop_table['Time'] = time\n",
    "jktebop_table['Mag'] = Mag\n",
    "jktebop_table['Mag_err'] = Mag_err\n",
    "\n",
    "#Write table to txt file\n",
    "ascii.write(jktebop_table, f'{file_name}_SAMPLE.dat', overwrite=True) \n",
    "\n",
    "#Read in table, removing NaN values\n",
    "test_file = pd.read_csv(f'{file_name}_SAMPLE.dat',delimiter = ' ').dropna()\n",
    "\n",
    "\n",
    "if fraction is True:\n",
    "    sample = test_file.sample(frac=value) #look at 50% of the data\n",
    "else:\n",
    "    sample = test_file.sample(n=value)\n",
    "\n",
    "#Upload table to txt in correct format\n",
    "#Header removed to not confuse jktebop\n",
    "sample.to_csv(f'{file_name}_SAMPLE.dat',index=False,header=False,sep='\\t')\n",
    "\n",
    "#Printing values needed for use in jktebop parameters\n",
    "print('Sample Table written!')\n",
    "\n",
    "print('Orbital period of eclipsing binary system: ',orbital_period)\n",
    "print('Reference time of primary minimum: ',orbital_t0)\n",
    "print('Effective Temperature: ',good_lc.meta['TEFF'])"
   ]
  },
  {
   "cell_type": "markdown",
   "id": "dfc4ef8e",
   "metadata": {},
   "source": [
    "#### Save for use in jktebop **(all points)**"
   ]
  },
  {
   "cell_type": "code",
   "execution_count": null,
   "id": "3acf51f1",
   "metadata": {},
   "outputs": [],
   "source": [
    "#Read in flux\n",
    "flux = good_lc.flux.value\n",
    "#Read in flux error \n",
    "flux_err = good_lc.flux_err.value\n",
    "#Calculate magnitude error from flux\n",
    "Mag_err = (abs((-2.5*np.log10(flux+flux_err))-(-2.5*np.log10(flux)))+abs((-2.5*np.log10(flux))-(-2.5*np.log10(flux-flux_err))))/2\n",
    "#Calculate magnitude\n",
    "Mag = -2.5*np.log10(flux)\n",
    "#Read in time values\n",
    "time = good_lc.time.value\n",
    "\n",
    "#Create a new table\n",
    "jktebop_table = Table()\n",
    "#Add values to table\n",
    "jktebop_table['Time'] = time\n",
    "jktebop_table['Mag'] = Mag\n",
    "jktebop_table['Mag_err'] = Mag_err\n",
    "\n",
    "#Write table to txt file\n",
    "ascii.write(jktebop_table, f'{file_name}_ALL.dat', overwrite=True) \n",
    "\n",
    "#Read in table, removing NaN values\n",
    "test_file = pd.read_csv(f'{file_name}_ALL.dat',delimiter = ' ').dropna()\n",
    "\n",
    "#Upload table to txt in correct format\n",
    "#Header removed to not confuse jktebop\n",
    "test_file.to_csv(f'{file_name}_ALL.dat',index=False,header=False,sep='\\t')\n",
    "\n",
    "#Printing values needed for use in jktebop parameters\n",
    "print('Table written!')\n",
    "\n",
    "print('Orbital period of eclipsing binary system: ',orbital_period)\n",
    "print('Reference time of primary minimum: ',orbital_t0)\n",
    "print('Effective Temperature: ',good_lc.meta['TEFF'])"
   ]
  },
  {
   "cell_type": "markdown",
   "id": "05a01506",
   "metadata": {},
   "source": [
    "#### Save Binned Fluxes for Error Estimate\n",
    "If an error comes with the first line, replace `binned_lc = masked_lc.bin(n_bins = 1000)` with the following:\n",
    "\n",
    "`binned_lc = masked_lc.bin(time_bin_size=0.01).remove_nans()`"
   ]
  },
  {
   "cell_type": "code",
   "execution_count": null,
   "id": "6dac7373",
   "metadata": {},
   "outputs": [],
   "source": [
    "#####SEE COMMENT ABOVE!!#######\n",
    "binned_lc = masked_lc.bin(n_bins = 1000) #creating 1000 data points from lightcurve object\n",
    "\n",
    "#Read in flux\n",
    "flux = binned_lc.flux.value\n",
    "#Read in flux error \n",
    "flux_err = binned_lc.flux_err.value\n",
    "#Calculate magnitude error from flux\n",
    "Mag_err = (abs((-2.5*np.log10(flux+flux_err))-(-2.5*np.log10(flux)))+abs((-2.5*np.log10(flux))-(-2.5*np.log10(flux-flux_err))))/2\n",
    "#Calculate magnitude\n",
    "Mag = -2.5*np.log10(flux)\n",
    "#Read in time values\n",
    "time = binned_lc.time.value\n",
    "\n",
    "#Create a new table\n",
    "jktebop_table = Table()\n",
    "#Add values to table\n",
    "jktebop_table['Time'] = time\n",
    "jktebop_table['Mag'] = Mag\n",
    "jktebop_table['Mag_err'] = Mag_err\n",
    "\n",
    "#Write table to txt file\n",
    "ascii.write(jktebop_table, f'{file_name}_BINNED.dat', overwrite=True) \n",
    "\n",
    "#Read in table, removing NaN values\n",
    "test_file = pd.read_csv(f'{file_name}_BINNED.dat',delimiter = ' ').dropna()\n",
    "\n",
    "#Upload table to txt in correct format\n",
    "#Header removed to not confuse jktebop\n",
    "test_file.to_csv(f'{file_name}_BINNED.dat',index=False,header=False,sep='\\t')\n",
    "\n",
    "#Printing values needed for use in jktebop parameters\n",
    "print('Table written!')\n",
    "\n",
    "print('Orbital period of eclipsing binary system: ',orbital_period)\n",
    "print('Reference time of primary minimum: ',orbital_t0)\n",
    "print('Effective Temperature: ',good_lc.meta['TEFF'])"
   ]
  },
  {
   "cell_type": "markdown",
   "id": "76fedd56",
   "metadata": {},
   "source": [
    "#### Saving the edited data of the star as a '.fits' file for later use:"
   ]
  },
  {
   "cell_type": "markdown",
   "id": "28f986f8",
   "metadata": {},
   "source": [
    "Note the below was written by Pierre Maxted (2024), sent in private communications."
   ]
  },
  {
   "cell_type": "code",
   "execution_count": null,
   "id": "a7f3644f",
   "metadata": {},
   "outputs": [],
   "source": [
    "#####Only run if needed to export as FITS format, otherwise leave#####\n",
    "\n",
    "#s = lk.search_lightcurve(star_name,author='SPOC',exptime=120)\n",
    "#lc = s.download_all().stitch()\n",
    "#Saving edited data as an astropy Table in a FITS file\n",
    "\n",
    "with warnings.catch_warnings():\n",
    "    warnings.simplefilter(\"ignore\")\n",
    "    good_lc.write(f'{file_name}.fits',overwrite=True)"
   ]
  }
 ],
 "metadata": {
  "kernelspec": {
   "display_name": "Python 3 (ipykernel)",
   "language": "python",
   "name": "python3"
  },
  "language_info": {
   "codemirror_mode": {
    "name": "ipython",
    "version": 3
   },
   "file_extension": ".py",
   "mimetype": "text/x-python",
   "name": "python",
   "nbconvert_exporter": "python",
   "pygments_lexer": "ipython3",
   "version": "3.9.7"
  }
 },
 "nbformat": 4,
 "nbformat_minor": 5
}
