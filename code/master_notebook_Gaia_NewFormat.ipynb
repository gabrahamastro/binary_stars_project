{
 "cells": [
  {
   "cell_type": "markdown",
   "id": "d619f3dc",
   "metadata": {},
   "source": [
    "### Gaia Data Lightcurve Analysis"
   ]
  },
  {
   "cell_type": "code",
   "execution_count": 2,
   "id": "957b65b6",
   "metadata": {},
   "outputs": [
    {
     "name": "stdout",
     "output_type": "stream",
     "text": [
      "Populating the interactive namespace from numpy and matplotlib\n"
     ]
    }
   ],
   "source": [
    "%pylab notebook\n",
    "#%matplotlib ipympl"
   ]
  },
  {
   "cell_type": "code",
   "execution_count": null,
   "id": "2d42da37",
   "metadata": {},
   "outputs": [],
   "source": [
    "from astropy.table import Table\n",
    "from astropy.io import ascii\n",
    "import lightkurve as lk \n",
    "import warnings\n",
    "import pandas as pd\n",
    "from astropy.units import UnitsWarning\n",
    "#remove hashtags from the 2 lines below if not using magic\n",
    "#import matplotlib.pyplot as plt\n",
    "#import numpy as np"
   ]
  },
  {
   "cell_type": "markdown",
   "id": "252727a9",
   "metadata": {},
   "source": [
    "#### Retrieving the Gaia data of a star:"
   ]
  },
  {
   "cell_type": "markdown",
   "id": "b2337941",
   "metadata": {},
   "source": [
    "Input \n",
    "- Name of star\n",
    "- Name of **output** file (the `.dat`) with *no extension*\n",
    "- Name of **input** file (the `.fits`) with *no extension*"
   ]
  },
  {
   "cell_type": "code",
   "execution_count": null,
   "id": "09c3ed08",
   "metadata": {},
   "outputs": [],
   "source": [
    "#######EDITABLE#######\n",
    "#Insert the name of the star of interest below between the quotes.\n",
    "star_name = '' #what the catalogue contains\n",
    "file_name = '' #must contain NO spaces or file extension\n",
    "input_file_name = '' #what the Gaia FITS file name is (without .fits extension)"
   ]
  },
  {
   "cell_type": "code",
   "execution_count": null,
   "id": "efd02b3f",
   "metadata": {},
   "outputs": [],
   "source": [
    "#Downloading star\n",
    "with warnings.catch_warnings():\n",
    "\n",
    "  warnings.simplefilter(\"ignore\", UnitsWarning)\n",
    "\n",
    "  table = Table.read(f'{input_file_name}.fits')\n",
    "table\n",
    "\n",
    "#Red GAIA data\n",
    "\n",
    "lcR = lk.LightCurve(time=table['rp_obs_time'].value + 2455197.5-2457000,\n",
    "                    flux=table['rp_flux'].value,\n",
    "                    flux_err=table['rp_flux_error'].value)\n",
    "\n",
    "lcR['mag'] = table['rp_mag'].value\n",
    "\n",
    "#Green GAIA data\n",
    "\n",
    "lcG = lk.LightCurve(time=table['g_transit_time'].value + 2455197.5-2457000,\n",
    "                    flux=table['g_transit_flux'].value,\n",
    "                    flux_err=table['g_transit_flux_error'].value)\n",
    "\n",
    "lcG['mag'] = table['g_transit_mag'].value\n",
    "\n",
    "#Blue GAIA data\n",
    "\n",
    "lcB = lk.LightCurve(time=table['bp_obs_time'].value + 2455197.5-2457000,\n",
    "                    flux=table['bp_flux'].value,\n",
    "                    flux_err=table['bp_flux_error'].value)\n",
    "\n",
    "lcB['mag'] = table['bp_mag'].value    "
   ]
  },
  {
   "cell_type": "markdown",
   "id": "a91ff97d",
   "metadata": {},
   "source": [
    "#### Removing the messy bits: Red"
   ]
  },
  {
   "cell_type": "code",
   "execution_count": null,
   "id": "0aab61c4",
   "metadata": {},
   "outputs": [],
   "source": [
    "#Examine the scatter diagram and remove the bad data points using the code in the cell below\n",
    "\n",
    "lcR.scatter(c='r')\n",
    "#plt.show()"
   ]
  },
  {
   "cell_type": "code",
   "execution_count": null,
   "id": "f11ef743",
   "metadata": {},
   "outputs": [],
   "source": [
    "#######EDITABLE#######\n",
    "#Examine the light curve(s) of interest above using the interactive plot tool.\n",
    "#Insert the start and end time(s) of the unwanted patch(es) of data into the following variables respectively.\n",
    "bad_dat_start_list = [] #The start times of individual unwanted patches are separated by ','.\n",
    "bad_dat_end_list =  []  #The end times of individual unwanted patches are separated by ','.\n",
    "\n",
    "bad_flux_bottom = [] #bottom (y values) of bad values\n",
    "bad_flux_top = [] # top (y values) of bad values"
   ]
  },
  {
   "cell_type": "code",
   "execution_count": null,
   "id": "5817f32e",
   "metadata": {},
   "outputs": [],
   "source": [
    "good_lc = lcR.copy()\n",
    "for bad_dat_start,bad_dat_end in zip(bad_dat_start_list,bad_dat_end_list):\n",
    "    print('Removing data from ',bad_dat_start,' to ',bad_dat_end)\n",
    "    #Extracting and displaying the good data\n",
    "    good_data_mask =  (good_lc.time.value < bad_dat_start) | (good_lc.time.value > bad_dat_end)\n",
    "    good_lc = good_lc[good_data_mask]\n",
    "\n",
    "for bad_dat_start,bad_dat_end in zip(bad_flux_bottom,bad_flux_top):\n",
    "    print('Removing data from ',bad_dat_start,' to ',bad_dat_end)\n",
    "    #Extracting and displaying the good data\n",
    "    good_data_mask =  (good_lc.flux.value < bad_dat_start) | (good_lc.flux.value > bad_dat_end)\n",
    "    good_lc = good_lc[good_data_mask]"
   ]
  },
  {
   "cell_type": "code",
   "execution_count": null,
   "id": "36973b20",
   "metadata": {},
   "outputs": [],
   "source": [
    "#Plotting the good data\n",
    "fig, ax = plt.subplots(figsize=(10,5))\n",
    "good_lc.scatter(ax=ax, s=1, color='red')\n",
    "ax.set_title('The Good Stuff')\n",
    "#plt.show()"
   ]
  },
  {
   "cell_type": "code",
   "execution_count": null,
   "id": "0fa4b194",
   "metadata": {},
   "outputs": [],
   "source": [
    "#Saving good_lc to a separate lightcurve\n",
    "lcR_final = good_lc"
   ]
  },
  {
   "cell_type": "markdown",
   "id": "1fbabdf7",
   "metadata": {},
   "source": [
    "#### Removing the messy bits: Blue"
   ]
  },
  {
   "cell_type": "code",
   "execution_count": null,
   "id": "af16051e",
   "metadata": {},
   "outputs": [],
   "source": [
    "#Examine the scatter diagram and remove the bad data points using the code in the cell below\n",
    "\n",
    "lcB.scatter(c='b');\n",
    "#plt.show()"
   ]
  },
  {
   "cell_type": "code",
   "execution_count": null,
   "id": "b1662d57",
   "metadata": {},
   "outputs": [],
   "source": [
    "#######EDITABLE#######\n",
    "#Examine the light curve(s) of interest above using the interactive plot tool.\n",
    "#Insert the start and end time(s) of the unwanted patch(es) of data into the following variables respectively.\n",
    "bad_dat_start_list = [] #The start times of individual unwanted patches are separated by ','.\n",
    "bad_dat_end_list =  []  #The end times of individual unwanted patches are separated by ','.\n",
    "\n",
    "bad_flux_bottom = [] #bottom (y values) of bad values\n",
    "bad_flux_top = [] #top (y values) of bad values"
   ]
  },
  {
   "cell_type": "code",
   "execution_count": null,
   "id": "661569ce",
   "metadata": {},
   "outputs": [],
   "source": [
    "good_lc = lcB.copy()\n",
    "for bad_dat_start,bad_dat_end in zip(bad_dat_start_list,bad_dat_end_list):\n",
    "    print('Removing data from ',bad_dat_start,' to ',bad_dat_end)\n",
    "    #Extracting and displaying the good data\n",
    "    good_data_mask =  (good_lc.time.value < bad_dat_start) | (good_lc.time.value > bad_dat_end)\n",
    "    good_lc = good_lc[good_data_mask]\n",
    "\n",
    "for bad_dat_start,bad_dat_end in zip(bad_flux_bottom,bad_flux_top):\n",
    "    print('Removing data from ',bad_dat_start,' to ',bad_dat_end)\n",
    "    #Extracting and displaying the good data\n",
    "    good_data_mask =  (good_lc.flux.value < bad_dat_start) | (good_lc.flux.value > bad_dat_end)\n",
    "    good_lc = good_lc[good_data_mask]"
   ]
  },
  {
   "cell_type": "code",
   "execution_count": null,
   "id": "4e126a4a",
   "metadata": {},
   "outputs": [],
   "source": [
    "#Plotting the good data\n",
    "fig, ax = plt.subplots(figsize=(10,5))\n",
    "good_lc.scatter(ax=ax, s=1, color='b')\n",
    "ax.set_title('The Good Stuff')\n",
    "#plt.show()"
   ]
  },
  {
   "cell_type": "code",
   "execution_count": null,
   "id": "790dd595",
   "metadata": {},
   "outputs": [],
   "source": [
    "#Saving good_lc to a separate lightcurve\n",
    "lcB_final = good_lc"
   ]
  },
  {
   "cell_type": "markdown",
   "id": "f21423d7",
   "metadata": {},
   "source": [
    "#### Removing the messy bits: Green"
   ]
  },
  {
   "cell_type": "code",
   "execution_count": null,
   "id": "42c06820",
   "metadata": {},
   "outputs": [],
   "source": [
    "#Examine the scatter diagram and remove the bad data points using the code in the cell below\n",
    "\n",
    "lcG.scatter(c='g');\n",
    "#plt.show()"
   ]
  },
  {
   "cell_type": "code",
   "execution_count": null,
   "id": "a97fd9fc",
   "metadata": {},
   "outputs": [],
   "source": [
    "#######EDITABLE#######\n",
    "#Examine the light curve(s) of interest above using the interactive plot tool.\n",
    "#Insert the start and end time(s) of the unwanted patch(es) of data into the following variables respectively.\n",
    "bad_dat_start_list = [] #The start times of individual unwanted patches are separated by ','.\n",
    "bad_dat_end_list =  []  #The end times of individual unwanted patches are separated by ','.\n",
    "\n",
    "bad_flux_bottom = [] #bottom (y values) of bad values\n",
    "bad_flux_top = [] # top (y values) of bad values"
   ]
  },
  {
   "cell_type": "code",
   "execution_count": null,
   "id": "88fa8038",
   "metadata": {},
   "outputs": [],
   "source": [
    "good_lc = lcG.copy()\n",
    "for bad_dat_start,bad_dat_end in zip(bad_dat_start_list,bad_dat_end_list):\n",
    "    print('Removing data from ',bad_dat_start,' to ',bad_dat_end)\n",
    "    #Extracting and displaying the good data\n",
    "    good_data_mask =  (good_lc.time.value < bad_dat_start) | (good_lc.time.value > bad_dat_end)\n",
    "    good_lc = good_lc[good_data_mask]\n",
    "\n",
    "for bad_dat_start,bad_dat_end in zip(bad_flux_bottom,bad_flux_top):\n",
    "    print('Removing data from ',bad_dat_start,' to ',bad_dat_end)\n",
    "    #Extracting and displaying the good data\n",
    "    good_data_mask =  (good_lc.flux.value < bad_dat_start) | (good_lc.flux.value > bad_dat_end)\n",
    "    good_lc = good_lc[good_data_mask]"
   ]
  },
  {
   "cell_type": "code",
   "execution_count": null,
   "id": "8b3f50be",
   "metadata": {},
   "outputs": [],
   "source": [
    "#Plotting the good data\n",
    "fig, ax = plt.subplots(figsize=(10,5))\n",
    "good_lc.scatter(ax=ax, s=1, color='g')\n",
    "ax.set_title('The Good Stuff')"
   ]
  },
  {
   "cell_type": "code",
   "execution_count": null,
   "id": "885411e4",
   "metadata": {},
   "outputs": [],
   "source": [
    "#Saving good_lc to a separate lightcurve\n",
    "lcG_final = good_lc"
   ]
  },
  {
   "cell_type": "markdown",
   "id": "45a659d6",
   "metadata": {},
   "source": [
    "#### Save all for use in jktebop"
   ]
  },
  {
   "cell_type": "code",
   "execution_count": null,
   "id": "b3485f97",
   "metadata": {},
   "outputs": [],
   "source": [
    "#####Save Red#####\n",
    "good_lc = lcR_final\n",
    "\n",
    "#Read in flux\n",
    "flux = good_lc.flux.value\n",
    "#Read in flux error \n",
    "flux_err = good_lc.flux_err.value\n",
    "#Calculate magnitude error from flux\n",
    "Mag_err = (abs((-2.5*np.log10(flux+flux_err))-(-2.5*np.log10(flux)))+abs((-2.5*np.log10(flux))-(-2.5*np.log10(flux-flux_err))))/2\n",
    "#Calculate magnitude\n",
    "Mag = good_lc.mag.value\n",
    "#Read in time values\n",
    "time = good_lc.time.value\n",
    "\n",
    "#Create a new table\n",
    "jktebop_table = Table()\n",
    "#Add values to table\n",
    "jktebop_table['Time'] = time\n",
    "jktebop_table['Mag'] = Mag\n",
    "jktebop_table['Mag_err'] = Mag_err\n",
    "\n",
    "#Write table to txt file\n",
    "ascii.write(jktebop_table, f'{file_name}.red.gaia.dat', overwrite=True) \n",
    "\n",
    "#Read in table, removing NaN values\n",
    "test_file = pd.read_csv(f'{file_name}.red.gaia.dat',delimiter = ' ').dropna()\n",
    "\n",
    "#Upload table to txt in correct format\n",
    "#Header removed to not confuse jktebop\n",
    "test_file.to_csv(f'{file_name}.red.gaia.dat',index=False,header=False,sep='\\t')\n",
    "\n",
    "#Printing values needed for use in jktebop parameters\n",
    "print('Red Table written!')\n",
    "\n",
    "#####Save Blue#####\n",
    "good_lc = lcB_final\n",
    "\n",
    "#Read in flux\n",
    "flux = good_lc.flux.value\n",
    "#Read in flux error \n",
    "flux_err = good_lc.flux_err.value\n",
    "#Calculate magnitude error from flux\n",
    "Mag_err = (abs((-2.5*np.log10(flux+flux_err))-(-2.5*np.log10(flux)))+abs((-2.5*np.log10(flux))-(-2.5*np.log10(flux-flux_err))))/2\n",
    "#Calculate magnitude\n",
    "Mag = good_lc.mag.value\n",
    "#Read in time values\n",
    "time = good_lc.time.value\n",
    "\n",
    "#Create a new table\n",
    "jktebop_table = Table()\n",
    "#Add values to table\n",
    "jktebop_table['Time'] = time\n",
    "jktebop_table['Mag'] = Mag\n",
    "jktebop_table['Mag_err'] = Mag_err\n",
    "\n",
    "#Write table to txt file\n",
    "ascii.write(jktebop_table, f'{file_name}.blue.gaia.dat', overwrite=True) \n",
    "\n",
    "#Read in table, removing NaN values\n",
    "test_file = pd.read_csv(f'{file_name}.blue.gaia.dat',delimiter = ' ').dropna()\n",
    "\n",
    "#Upload table to txt in correct format\n",
    "#Header removed to not confuse jktebop\n",
    "test_file.to_csv(f'{file_name}.blue.gaia.dat',index=False,header=False,sep='\\t')\n",
    "\n",
    "#Printing values needed for use in jktebop parameters\n",
    "print('Blue Table written!')\n",
    "\n",
    "#####Save Green#####\n",
    "good_lc = lcG_final\n",
    "\n",
    "#Read in flux\n",
    "flux = good_lc.flux.value\n",
    "#Read in flux error \n",
    "flux_err = good_lc.flux_err.value\n",
    "#Calculate magnitude error from flux\n",
    "Mag_err = (abs((-2.5*np.log10(flux+flux_err))-(-2.5*np.log10(flux)))+abs((-2.5*np.log10(flux))-(-2.5*np.log10(flux-flux_err))))/2\n",
    "#Calculate magnitude\n",
    "Mag = good_lc.mag.value\n",
    "#Read in time values\n",
    "time = good_lc.time.value\n",
    "\n",
    "#Create a new table\n",
    "jktebop_table = Table()\n",
    "#Add values to table\n",
    "jktebop_table['Time'] = time\n",
    "jktebop_table['Mag'] = Mag\n",
    "jktebop_table['Mag_err'] = Mag_err\n",
    "\n",
    "#Write table to txt file\n",
    "ascii.write(jktebop_table, f'{file_name}.green.gaia.dat', overwrite=True) \n",
    "\n",
    "#Read in table, removing NaN values\n",
    "test_file = pd.read_csv(f'{file_name}.green.gaia.dat',delimiter = ' ').dropna()\n",
    "\n",
    "#Upload table to txt in correct format\n",
    "#Header removed to not confuse jktebop\n",
    "test_file.to_csv(f'{file_name}.green.gaia.dat',index=False,header=False,sep='\\t')\n",
    "\n",
    "#Printing values needed for use in jktebop parameters\n",
    "print('Green Table written!')"
   ]
  }
 ],
 "metadata": {
  "kernelspec": {
   "display_name": "Python 3 (ipykernel)",
   "language": "python",
   "name": "python3"
  },
  "language_info": {
   "codemirror_mode": {
    "name": "ipython",
    "version": 3
   },
   "file_extension": ".py",
   "mimetype": "text/x-python",
   "name": "python",
   "nbconvert_exporter": "python",
   "pygments_lexer": "ipython3",
   "version": "3.9.7"
  }
 },
 "nbformat": 4,
 "nbformat_minor": 5
}
