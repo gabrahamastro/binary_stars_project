{
 "cells": [
  {
   "cell_type": "code",
   "execution_count": 6,
   "id": "5b0fbd79",
   "metadata": {},
   "outputs": [],
   "source": [
    "%pylab notebook\n",
    "#remove hashtags from the 2 lines below if not using magic\n",
    "#import numpy as np\n",
    "#import matplotlib.pyplot as plt\n",
    "import pandas as pd"
   ]
  },
  {
   "cell_type": "markdown",
   "id": "a2b36ae2",
   "metadata": {},
   "source": [
    "#### Input Gaia files - GRB and TESS data"
   ]
  },
  {
   "cell_type": "code",
   "execution_count": null,
   "id": "e6b0a898",
   "metadata": {},
   "outputs": [],
   "source": [
    "#TESS DATA - TESS\n",
    "model = pd.read_csv('model.out.3',delim_whitespace=True,comment='#', names = ['Phase','Magnitude'],usecols=[0,1])\n",
    "\n",
    "#GAIA data - RED EPOCH\n",
    "model_gaia_red = pd.read_csv('model.red.gaia.out.3',delim_whitespace=True,comment='#', names = ['Phase','Magnitude_unscaled'],usecols=[0,1])\n",
    "\n",
    "#GAIA data - GREEN EPOCH\n",
    "model_gaia_green = pd.read_csv('model.green.gaia.out.3',delim_whitespace=True,comment='#', names = ['Phase','Magnitude_unscaled'],usecols=[0,1])\n",
    "\n",
    "#GAIA data - BLUE EPOCH\n",
    "model_gaia_blue = pd.read_csv('model.blue.gaia.out.3',delim_whitespace=True,comment='#', names = ['Phase','Magnitude_unscaled'],usecols=[0,1])"
   ]
  },
  {
   "cell_type": "code",
   "execution_count": 9,
   "id": "1763b4de",
   "metadata": {},
   "outputs": [],
   "source": [
    "val = model_gaia_red\n",
    "val['Magnitude'] = (val['Magnitude_unscaled']-val['Magnitude_unscaled'].min())/(val['Magnitude_unscaled'].max()-val['Magnitude_unscaled'].min())\n",
    "\n",
    "val = model_gaia_green\n",
    "val['Magnitude'] = (val['Magnitude_unscaled']-val['Magnitude_unscaled'].min())/(val['Magnitude_unscaled'].max()-val['Magnitude_unscaled'].min())\n",
    "\n",
    "val = model_gaia_blue\n",
    "val['Magnitude'] = (val['Magnitude_unscaled']-val['Magnitude_unscaled'].min())/(val['Magnitude_unscaled'].max()-val['Magnitude_unscaled'].min())\n",
    "\n",
    "model['Magnitude'] = (model['Magnitude']-model['Magnitude'].min())/(model['Magnitude'].max()-model['Magnitude'].min())"
   ]
  },
  {
   "cell_type": "markdown",
   "id": "e14897f6",
   "metadata": {},
   "source": [
    "#### Overplotting model fits - GRB data and Tess data"
   ]
  },
  {
   "cell_type": "code",
   "execution_count": null,
   "id": "80b97664",
   "metadata": {},
   "outputs": [],
   "source": [
    "fig, ax = plt.subplots(nrows=1, sharex=True, figsize=(8, 5))\n",
    "ax.plot(model_gaia_green['Phase'], model_gaia_green['Magnitude'], color='green', label='G-band Gaia',linestyle='dashdot')\n",
    "ax.plot(model_gaia_green['Phase'] - 1, model_gaia_green['Magnitude'], color='green',linestyle='dashdot')\n",
    "\n",
    "ax.plot(model_gaia_red['Phase'], model_gaia_red['Magnitude'], color='red', label='R-band Gaia',linestyle='dotted')\n",
    "ax.plot(model_gaia_red['Phase'] - 1, model_gaia_red['Magnitude'], color='red',linestyle='dotted')\n",
    "\n",
    "ax.plot(model_gaia_blue['Phase'], model_gaia_blue['Magnitude'], color='blue', label='B-band Gaia',linestyle='dashed')\n",
    "ax.plot(model_gaia_blue['Phase'] - 1, model_gaia_blue['Magnitude'], color='blue',linestyle='dashed')\n",
    "\n",
    "ax.plot(model['Phase'], model['Magnitude'], color='wheat', label='TESS',linestyle='-')\n",
    "ax.plot(model['Phase'] - 1, model['Magnitude'], color='wheat',linestyle='-')\n",
    "\n",
    "ax.set_xlim(-0.25,0.8)\n",
    "\n",
    "ax.yaxis.set_inverted(True) #because it's a magnitude\n",
    "\n",
    "ax.set_xlabel('Phase')\n",
    "ax.set_ylabel('Normalised Magnitude')\n",
    "ax.set_title('Gaia and TESS Models Overplotted')\n",
    "ax.legend()\n",
    "\n",
    "fig.tight_layout()\n",
    "plt.show()"
   ]
  }
 ],
 "metadata": {
  "kernelspec": {
   "display_name": "Python 3 (ipykernel)",
   "language": "python",
   "name": "python3"
  },
  "language_info": {
   "codemirror_mode": {
    "name": "ipython",
    "version": 3
   },
   "file_extension": ".py",
   "mimetype": "text/x-python",
   "name": "python",
   "nbconvert_exporter": "python",
   "pygments_lexer": "ipython3",
   "version": "3.9.7"
  }
 },
 "nbformat": 4,
 "nbformat_minor": 5
}
