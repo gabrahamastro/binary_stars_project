{
 "cells": [
  {
   "cell_type": "code",
   "execution_count": null,
   "id": "539926b3",
   "metadata": {},
   "outputs": [],
   "source": [
    "%pylab notebook\n",
    "#remove hashtags from the 2 lines below if not using magic\n",
    "#import numpy as np\n",
    "#import matplotlib.pyplot as plt\n",
    "import pandas as pd"
   ]
  },
  {
   "cell_type": "markdown",
   "id": "dc2fc04d",
   "metadata": {},
   "source": [
    "#### Input Files"
   ]
  },
  {
   "cell_type": "markdown",
   "id": "a1d45137",
   "metadata": {},
   "source": [
    "Add a string specifying the source in the `source` variable:\n",
    "- `TESS` for TESS data\n",
    "- `GaiaR` for red Gaia data\n",
    "- `GaiaB` for blue Gaia data\n",
    "- `GaiaG` for green Gaia data"
   ]
  },
  {
   "cell_type": "code",
   "execution_count": null,
   "id": "9fa27181",
   "metadata": {},
   "outputs": [],
   "source": [
    "###EDITABLE###\n",
    "source = ''"
   ]
  },
  {
   "cell_type": "code",
   "execution_count": null,
   "id": "b4cc2624",
   "metadata": {},
   "outputs": [],
   "source": [
    "if source == 'TESS':\n",
    "    #TESS DATA - TESS\n",
    "    model = pd.read_csv('model.out.3',delim_whitespace=True,comment='#', names = ['Phase','Magnitude'],usecols=[0,1])\n",
    "    lcfit = pd.read_csv('lcfit.out.3',delim_whitespace=True,comment='#', names = ['Time','Magnitude','Error','Phase','Model','(O-C)Mag'])\n",
    "elif source == 'GaiaR':\n",
    "    #GAIA data - RED EPOCH\n",
    "    model = pd.read_csv('model.red.gaia.out.3',delim_whitespace=True,comment='#', names = ['Phase','Magnitude_unscaled'],usecols=[0,1])\n",
    "    lcfit = pd.read_csv('lcfit.red.gaia.out.3',delim_whitespace=True,comment='#', names = ['Time','Magnitude_unscaled','Error_unscaled','Phase','Model','(O-C)Mag'])\n",
    "elif source == 'GaiaG':\n",
    "    #GAIA data - GREEN EPOCH\n",
    "    model = pd.read_csv('model.green.gaia.out.3',delim_whitespace=True,comment='#', names = ['Phase','Magnitude_unscaled'],usecols=[0,1])\n",
    "    lcfit = pd.read_csv('lcfit.green.gaia.out.3',delim_whitespace=True,comment='#', names = ['Time','Magnitude_unscaled','Error_unscaled','Phase','Model','(O-C)Mag'])\n",
    "elif source == 'GaiaB':\n",
    "    #GAIA data - BLUE EPOCH\n",
    "    model = pd.read_csv('model.blue.gaia.out.3',delim_whitespace=True,comment='#', names = ['Phase','Magnitude_unscaled'],usecols=[0,1])\n",
    "    lcfit = pd.read_csv('lcfit.blue.gaia.out.3',delim_whitespace=True,comment='#', names = ['Time','Magnitude_unscaled','Error_unscaled','Phase','Model','(O-C)Mag'])\n",
    "else:\n",
    "    print('The source name is not inputted correctly. Please try again!')\n",
    "\n",
    "#Normalise any Gaia data inputted \n",
    "\n",
    "if source == 'TESS':\n",
    "    print('Finished!')\n",
    "else:\n",
    "    model_mag_max = model['Magnitude_unscaled'].min()\n",
    "    model['Magnitude'] = model['Magnitude_unscaled']-model_mag_max\n",
    "\n",
    "    lcfit['Magnitude'] = lcfit['Magnitude_unscaled']-model_mag_max\n",
    "\n",
    "    print('Finished!')"
   ]
  },
  {
   "cell_type": "markdown",
   "id": "a789d573",
   "metadata": {},
   "source": [
    "#### Convert Magnitude to Flux"
   ]
  },
  {
   "cell_type": "code",
   "execution_count": null,
   "id": "92fabb71",
   "metadata": {},
   "outputs": [],
   "source": [
    "#Calculating flux - TESS\n",
    "model['Flux'] = 10**(model.Magnitude/-2.5)\n",
    "lcfit['Flux'] = 10**(lcfit.Magnitude/-2.5)\n",
    "lcfit['(O-C)'] = (10**(lcfit['(O-C)Mag']/-2.5))*model['Flux']-model['Flux']"
   ]
  },
  {
   "cell_type": "markdown",
   "id": "6a276638",
   "metadata": {},
   "source": [
    "#### Overplotting and Plotting Residuals"
   ]
  },
  {
   "cell_type": "code",
   "execution_count": null,
   "id": "913428ea",
   "metadata": {},
   "outputs": [],
   "source": [
    "fig,ax = plt.subplots(nrows=2,sharex=True,figsize=(8,5))\n",
    "\n",
    "zeros = [0]*len(model['Phase'])\n",
    "\n",
    "ax[0].plot(model['Phase'],model['Flux'],c='b',label='Model')\n",
    "ax[0].plot(model['Phase']-1,model['Flux'],c='b')\n",
    "\n",
    "ax[0].scatter(lcfit['Phase'],lcfit['Flux'], color = 'orange',s=0.5,label='Data')\n",
    "ax[0].scatter(lcfit['Phase']-1,lcfit['Flux'],color = 'orange',s=0.5)\n",
    "\n",
    "ax[0].set_ylabel('Normalised Flux')\n",
    "\n",
    "ax[0].set_title(str(source)+str(' Model Overplot Lightcurve'))\n",
    "\n",
    "ax[1].plot(model['Phase'],zeros,c='k')\n",
    "ax[1].plot(model['Phase']-1,zeros,c='k')\n",
    "\n",
    "ax[1].scatter(lcfit.Phase,lcfit['(O-C)'],c='g',label='Residuals',s=0.5)\n",
    "ax[1].scatter(lcfit.Phase-1,lcfit['(O-C)'],c='g',s=0.5)\n",
    "\n",
    "ax[1].set_ylabel('O-C')\n",
    "\n",
    "ax[1].set_title('Residuals')\n",
    "\n",
    "ax[1].set_xlabel('Phase')\n",
    "ax[1].set_xlim(-0.25,0.8)\n",
    "\n",
    "ax[1].legend()\n",
    "ax[0].legend()\n",
    "\n",
    "fig.tight_layout()\n",
    "fig.show()"
   ]
  }
 ],
 "metadata": {
  "kernelspec": {
   "display_name": "Python 3 (ipykernel)",
   "language": "python",
   "name": "python3"
  },
  "language_info": {
   "codemirror_mode": {
    "name": "ipython",
    "version": 3
   },
   "file_extension": ".py",
   "mimetype": "text/x-python",
   "name": "python",
   "nbconvert_exporter": "python",
   "pygments_lexer": "ipython3",
   "version": "3.9.7"
  }
 },
 "nbformat": 4,
 "nbformat_minor": 5
}
